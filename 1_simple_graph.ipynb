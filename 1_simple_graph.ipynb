{
 "cells": [
  {
   "cell_type": "code",
   "execution_count": null,
   "id": "e2abd08e",
   "metadata": {
    "vscode": {
     "languageId": "plaintext"
    }
   },
   "outputs": [],
   "source": [
    "from typing import TypedDict\n",
    "\n",
    "class PortfolioState(TypedDict):\n",
    "    amount_usd: float\n",
    "    total_usd: float\n",
    "    total_inr: float\n",
    "\n",
    "def calc_total(portfolioState: PortfolioState) -> PortfolioState:\n",
    "    portfolioState['total_usd'] = portfolioState['amount_usd'] * 1.08\n",
    "    return portfolioState\n",
    "\n",
    "def convert_to_inr(portfolioState: PortfolioState) -> PortfolioState:\n",
    "    portfolioState['total_inr'] = portfolioState['total_usd'] * 85\n",
    "    return portfolioState"
   ]
  }
 ],
 "metadata": {
  "language_info": {
   "name": "python"
  }
 },
 "nbformat": 4,
 "nbformat_minor": 5
}
